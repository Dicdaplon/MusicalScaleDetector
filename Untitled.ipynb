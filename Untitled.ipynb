{
 "cells": [
  {
   "cell_type": "code",
   "execution_count": 142,
   "id": "fec04b1d",
   "metadata": {},
   "outputs": [],
   "source": [
    "import pandas as pd"
   ]
  },
  {
   "cell_type": "code",
   "execution_count": 143,
   "id": "a7a2dbc2",
   "metadata": {},
   "outputs": [],
   "source": [
    "df_scales = pd.read_csv('music-scales.csv', header = None, names=['scale','1','2','3','4','5','6','7','8','9','10','11'])"
   ]
  },
  {
   "cell_type": "code",
   "execution_count": 144,
   "id": "4005671b",
   "metadata": {},
   "outputs": [],
   "source": [
    "df_scales.loc[:,df_scales.columns != 'scale']= df_scales.loc[:,df_scales.columns != 'scale'].fillna(0).astype('int32')"
   ]
  },
  {
   "cell_type": "code",
   "execution_count": 145,
   "id": "d8f3a931",
   "metadata": {},
   "outputs": [],
   "source": [
    "df_scales['combined'] = df_scales.loc[:,df_scales.columns != 'scale'].values.tolist()"
   ]
  },
  {
   "cell_type": "code",
   "execution_count": 146,
   "id": "f2c66fa8",
   "metadata": {},
   "outputs": [],
   "source": [
    "df_scales['combined'] = df_scales['combined'].astype('str')"
   ]
  },
  {
   "cell_type": "code",
   "execution_count": 147,
   "id": "d8774400",
   "metadata": {},
   "outputs": [
    {
     "data": {
      "text/plain": [
       "0        [0, 1, 2, 0, 0, 0, 0, 0, 0, 0, 0]\n",
       "1        [0, 2, 4, 0, 0, 0, 0, 0, 0, 0, 0]\n",
       "2      [0, 10, 11, 0, 0, 0, 0, 0, 0, 0, 0]\n",
       "3        [0, 4, 8, 0, 0, 0, 0, 0, 0, 0, 0]\n",
       "4        [0, 3, 8, 0, 0, 0, 0, 0, 0, 0, 0]\n",
       "                      ...                 \n",
       "325    [0, 2, 3, 4, 5, 7, 8, 9, 10, 11, 0]\n",
       "326    [0, 2, 3, 4, 5, 6, 7, 9, 10, 11, 0]\n",
       "327    [0, 1, 2, 3, 4, 6, 7, 9, 10, 11, 0]\n",
       "328     [0, 2, 3, 4, 5, 6, 7, 8, 9, 11, 0]\n",
       "329    [0, 1, 2, 4, 5, 6, 7, 8, 10, 11, 0]\n",
       "Name: combined, Length: 330, dtype: object"
      ]
     },
     "execution_count": 147,
     "metadata": {},
     "output_type": "execute_result"
    }
   ],
   "source": [
    "df_scales['combined'] "
   ]
  },
  {
   "cell_type": "code",
   "execution_count": 148,
   "id": "5b445cdb",
   "metadata": {},
   "outputs": [],
   "source": [
    "list_test = [0, 2, 5, 6, 7]"
   ]
  },
  {
   "cell_type": "code",
   "execution_count": 149,
   "id": "7536ea0b",
   "metadata": {},
   "outputs": [],
   "source": [
    "list_test = str(list_test)"
   ]
  },
  {
   "cell_type": "code",
   "execution_count": 150,
   "id": "156eaca3",
   "metadata": {},
   "outputs": [],
   "source": [
    "list_test = list_test[:-1]"
   ]
  },
  {
   "cell_type": "code",
   "execution_count": 151,
   "id": "97e2fd5c",
   "metadata": {},
   "outputs": [],
   "source": [
    "test = df_scales.loc[df_scales['combined'].str.startswith(list_test)]"
   ]
  },
  {
   "cell_type": "code",
   "execution_count": 152,
   "id": "749b7ee5",
   "metadata": {},
   "outputs": [
    {
     "data": {
      "text/plain": [
       "['ChromaticMixolydianInv']"
      ]
     },
     "execution_count": 152,
     "metadata": {},
     "output_type": "execute_result"
    }
   ],
   "source": [
    "test['scale'].to_list()"
   ]
  },
  {
   "cell_type": "code",
   "execution_count": null,
   "id": "45c2b310",
   "metadata": {},
   "outputs": [],
   "source": []
  }
 ],
 "metadata": {
  "kernelspec": {
   "display_name": "Python 3 (ipykernel)",
   "language": "python",
   "name": "python3"
  },
  "language_info": {
   "codemirror_mode": {
    "name": "ipython",
    "version": 3
   },
   "file_extension": ".py",
   "mimetype": "text/x-python",
   "name": "python",
   "nbconvert_exporter": "python",
   "pygments_lexer": "ipython3",
   "version": "3.8.10"
  },
  "toc": {
   "base_numbering": 1,
   "nav_menu": {},
   "number_sections": true,
   "sideBar": true,
   "skip_h1_title": false,
   "title_cell": "Table of Contents",
   "title_sidebar": "Contents",
   "toc_cell": false,
   "toc_position": {},
   "toc_section_display": true,
   "toc_window_display": false
  }
 },
 "nbformat": 4,
 "nbformat_minor": 5
}
